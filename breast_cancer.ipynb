{
  "nbformat": 4,
  "nbformat_minor": 0,
  "metadata": {
    "colab": {
      "name": "breast_cancer.ipynb",
      "provenance": [],
      "authorship_tag": "ABX9TyOli6PyCOxawSm7Ag26s+Uc",
      "include_colab_link": true
    },
    "kernelspec": {
      "name": "python3",
      "display_name": "Python 3"
    }
  },
  "cells": [
    {
      "cell_type": "markdown",
      "metadata": {
        "id": "view-in-github",
        "colab_type": "text"
      },
      "source": [
        "<a href=\"https://colab.research.google.com/github/alyabdulfatah/breast_cancer/blob/master/breast_cancer.ipynb\" target=\"_parent\"><img src=\"https://colab.research.google.com/assets/colab-badge.svg\" alt=\"Open In Colab\"/></a>"
      ]
    },
    {
      "cell_type": "code",
      "metadata": {
        "id": "5OSVYq49-avz",
        "colab_type": "code",
        "colab": {
          "base_uri": "https://localhost:8080/",
          "height": 71
        },
        "outputId": "9ce07126-99ea-466c-cd03-9d57f151edff"
      },
      "source": [
        "#Import Libraries\n",
        "from sklearn.datasets import load_breast_cancer\n",
        "from sklearn.model_selection import train_test_split\n",
        "from sklearn.linear_model import LogisticRegression\n",
        "from sklearn.metrics import confusion_matrix\n",
        "import seaborn as sns\n",
        "import matplotlib.pyplot as plt\n",
        "from sklearn.metrics import accuracy_score\n",
        "from sklearn.metrics import f1_score\n",
        "from sklearn.metrics import recall_score\n",
        "from sklearn.metrics import precision_score\n",
        "from sklearn.metrics import precision_recall_fscore_support\n",
        "from sklearn.metrics import precision_recall_curve\n",
        "from sklearn.metrics import classification_report\n",
        "from sklearn.metrics import roc_curve\n",
        "from sklearn.metrics import auc\n",
        "from sklearn.metrics import roc_auc_score\n",
        "from sklearn.metrics import zero_one_loss"
      ],
      "execution_count": 1,
      "outputs": [
        {
          "output_type": "stream",
          "text": [
            "/usr/local/lib/python3.6/dist-packages/statsmodels/tools/_testing.py:19: FutureWarning: pandas.util.testing is deprecated. Use the functions in the public API at pandas.testing instead.\n",
            "  import pandas.util.testing as tm\n"
          ],
          "name": "stderr"
        }
      ]
    },
    {
      "cell_type": "code",
      "metadata": {
        "id": "GEhprkKs-jGG",
        "colab_type": "code",
        "colab": {}
      },
      "source": [
        "#load breast cancer data\n",
        "\n",
        "BreastData = load_breast_cancer()\n",
        "\n",
        "#X Data\n",
        "X = BreastData.data\n",
        "\n",
        "#y Data\n",
        "y = BreastData.target\n",
        "\n",
        "#----------------------------------------------------\n",
        "#Splitting data\n",
        "\n",
        "X_train, X_test, y_train, y_test = train_test_split(X, y, test_size=0.33, random_state=44, shuffle =True)\n",
        "\n"
      ],
      "execution_count": 0,
      "outputs": []
    },
    {
      "cell_type": "code",
      "metadata": {
        "id": "GqRNrGNq-oUn",
        "colab_type": "code",
        "colab": {
          "base_uri": "https://localhost:8080/",
          "height": 85
        },
        "outputId": "b8fa117e-53b7-4e3a-d5c6-46bd7f5435ab"
      },
      "source": [
        "'''\n",
        "#linear_model.LogisticRegression(penalty='l2’,dual=False,tol=0.0001,C=1.0,fit_intercept=True,intercept_scaling=1,\n",
        "#                                class_weight=None,random_state=None,solver='warn’,max_iter=100,\n",
        "#                                multi_class='warn’, verbose=0,warm_start=False, n_jobs=None)\n",
        "'''\n",
        "\n",
        "LogisticRegressionModel = LogisticRegression(penalty='l1',solver='liblinear',C=1.0,random_state=33,max_iter=100)\n",
        "LogisticRegressionModel.fit(X_train, y_train)\n",
        "\n",
        "#Calculating Details\n",
        "print('LogisticRegressionModel Train Score is : ' , LogisticRegressionModel.score(X_train, y_train))\n",
        "print('LogisticRegressionModel Test Score is : ' , LogisticRegressionModel.score(X_test, y_test))\n",
        "print('LogisticRegressionModel Classes are : ' , LogisticRegressionModel.classes_)\n",
        "print('LogisticRegressionModel No. of iteratios is : ' , LogisticRegressionModel.n_iter_)"
      ],
      "execution_count": 4,
      "outputs": [
        {
          "output_type": "stream",
          "text": [
            "LogisticRegressionModel Train Score is :  0.958005249343832\n",
            "LogisticRegressionModel Test Score is :  0.9680851063829787\n",
            "LogisticRegressionModel Classes are :  [0 1]\n",
            "LogisticRegressionModel No. of iteratios is :  [83]\n"
          ],
          "name": "stdout"
        }
      ]
    },
    {
      "cell_type": "code",
      "metadata": {
        "id": "57f7QzvO-th4",
        "colab_type": "code",
        "colab": {
          "base_uri": "https://localhost:8080/",
          "height": 204
        },
        "outputId": "d291e693-a958-48dd-ebc5-836a5a66c620"
      },
      "source": [
        "y_pred = LogisticRegressionModel.predict(X_test)\n",
        "y_pred_prob = LogisticRegressionModel.predict_proba(X_test)\n",
        "print('Predicted Value for LogisticRegressionModel is : ' , y_pred[:10])\n",
        "print('Prediction Probabilities Value for LogisticRegressionModel is : ' , y_pred_prob[:10])"
      ],
      "execution_count": 5,
      "outputs": [
        {
          "output_type": "stream",
          "text": [
            "Predicted Value for LogisticRegressionModel is :  [0 0 1 0 1 1 1 1 0 1]\n",
            "Prediction Probabilities Value for LogisticRegressionModel is :  [[9.90308909e-01 9.69109103e-03]\n",
            " [9.99999994e-01 6.33773453e-09]\n",
            " [2.30409727e-02 9.76959027e-01]\n",
            " [1.00000000e+00 1.90582548e-10]\n",
            " [3.13254132e-01 6.86745868e-01]\n",
            " [9.53234882e-02 9.04676512e-01]\n",
            " [2.36133911e-04 9.99763866e-01]\n",
            " [7.73304589e-02 9.22669541e-01]\n",
            " [9.97116526e-01 2.88347378e-03]\n",
            " [1.27426353e-03 9.98725736e-01]]\n"
          ],
          "name": "stdout"
        }
      ]
    },
    {
      "cell_type": "code",
      "metadata": {
        "id": "tOGULFY_-715",
        "colab_type": "code",
        "colab": {
          "base_uri": "https://localhost:8080/",
          "height": 316
        },
        "outputId": "d487b6ec-4bec-4e44-990f-28fe1118b73e"
      },
      "source": [
        "#Calculating Confusion Matrix\n",
        "CM = confusion_matrix(y_test, y_pred)\n",
        "print('Confusion Matrix is : \\n', CM)\n",
        "\n",
        "# drawing confusion matrix\n",
        "sns.heatmap(CM, center = True)\n",
        "plt.show()"
      ],
      "execution_count": 6,
      "outputs": [
        {
          "output_type": "stream",
          "text": [
            "Confusion Matrix is : \n",
            " [[ 65   3]\n",
            " [  3 117]]\n"
          ],
          "name": "stdout"
        },
        {
          "output_type": "display_data",
          "data": {
            "image/png": "[encoded data removed]",
            "text/plain": [
              "<Figure size 432x288 with 2 Axes>"
            ]
          },
          "metadata": {
            "tags": [],
            "needs_background": "light"
          }
        }
      ]
    },
    {
      "cell_type": "code",
      "metadata": {
        "id": "mtWXKCYm_CT_",
        "colab_type": "code",
        "colab": {
          "base_uri": "https://localhost:8080/",
          "height": 34
        },
        "outputId": "626ad720-ca2b-498f-a9e9-87e046299e74"
      },
      "source": [
        "#Calculating Accuracy Score  : ((TP + TN) / float(TP + TN + FP + FN))\n",
        "AccScore = accuracy_score(y_test, y_pred, normalize=False)\n",
        "print('Accuracy Score is : ', AccScore)"
      ],
      "execution_count": 7,
      "outputs": [
        {
          "output_type": "stream",
          "text": [
            "Accuracy Score is :  182\n"
          ],
          "name": "stdout"
        }
      ]
    },
    {
      "cell_type": "code",
      "metadata": {
        "id": "xFFfuO_Y_Fzq",
        "colab_type": "code",
        "colab": {
          "base_uri": "https://localhost:8080/",
          "height": 34
        },
        "outputId": "f38458f0-6cf8-4917-d20c-01058ac48c99"
      },
      "source": [
        "#Calculating F1 Score  : 2 * (precision * recall) / (precision + recall)\n",
        "# f1_score(y_true, y_pred, labels=None, pos_label=1, average=’binary’, sample_weight=None)\n",
        "\n",
        "F1Score = f1_score(y_test, y_pred, average='micro') #it can be : binary,macro,weighted,samples\n",
        "print('F1 Score is : ', F1Score)"
      ],
      "execution_count": 8,
      "outputs": [
        {
          "output_type": "stream",
          "text": [
            "F1 Score is :  0.9680851063829787\n"
          ],
          "name": "stdout"
        }
      ]
    },
    {
      "cell_type": "code",
      "metadata": {
        "id": "aejhGmQ__JhY",
        "colab_type": "code",
        "colab": {
          "base_uri": "https://localhost:8080/",
          "height": 34
        },
        "outputId": "d1cee40f-d8f1-4c9c-d565-c0ed5333c036"
      },
      "source": [
        "#Calculating Recall Score : (Sensitivity) (TP / float(TP + FN))   1 / 1+2  \n",
        "# recall_score(y_true, y_pred, labels=None, pos_label=1, average=’binary’, sample_weight=None)\n",
        "\n",
        "RecallScore = recall_score(y_test, y_pred, average='micro') #it can be : binary,macro,weighted,samples\n",
        "print('Recall Score is : ', RecallScore)"
      ],
      "execution_count": 9,
      "outputs": [
        {
          "output_type": "stream",
          "text": [
            "Recall Score is :  0.9680851063829787\n"
          ],
          "name": "stdout"
        }
      ]
    },
    {
      "cell_type": "code",
      "metadata": {
        "id": "IZTNO_mz_MlV",
        "colab_type": "code",
        "colab": {
          "base_uri": "https://localhost:8080/",
          "height": 34
        },
        "outputId": "080d24d7-f3eb-4611-ec2c-da7d30c92ffe"
      },
      "source": [
        "#Calculating Precision Score : (Specificity) #(TP / float(TP + FP))  \n",
        "# precision_score(y_true, y_pred, labels=None, pos_label=1, average=’binary’,sample_weight=None)\n",
        "\n",
        "PrecisionScore = precision_score(y_test, y_pred, average='micro') #it can be : binary,macro,weighted,samples\n",
        "print('Precision Score is : ', PrecisionScore)"
      ],
      "execution_count": 10,
      "outputs": [
        {
          "output_type": "stream",
          "text": [
            "Precision Score is :  0.9680851063829787\n"
          ],
          "name": "stdout"
        }
      ]
    },
    {
      "cell_type": "code",
      "metadata": {
        "id": "61lz91YY_SbC",
        "colab_type": "code",
        "colab": {
          "base_uri": "https://localhost:8080/",
          "height": 34
        },
        "outputId": "f689d065-4793-4433-d3e1-56a4d28373bb"
      },
      "source": [
        "#Calculating Precision recall Score :  \n",
        "#metrics.precision_recall_fscore_support(y_true, y_pred, beta=1.0, labels=None, pos_label=1, average=\n",
        "#                                        None, warn_for = ('precision’,’recall’, ’f-score’), sample_weight=None)\n",
        "\n",
        "PrecisionRecallScore = precision_recall_fscore_support(y_test, y_pred, average='micro') #it can be : binary,macro,weighted,samples\n",
        "print('Precision Recall Score is : ', PrecisionRecallScore)\n"
      ],
      "execution_count": 11,
      "outputs": [
        {
          "output_type": "stream",
          "text": [
            "Precision Recall Score is :  (0.9680851063829787, 0.9680851063829787, 0.9680851063829787, None)\n"
          ],
          "name": "stdout"
        }
      ]
    },
    {
      "cell_type": "code",
      "metadata": {
        "id": "Y7RR5bs5_X_h",
        "colab_type": "code",
        "colab": {
          "base_uri": "https://localhost:8080/",
          "height": 68
        },
        "outputId": "0bcadcd4-6a11-4076-b0b5-ffe72afbbab7"
      },
      "source": [
        "#Calculating Precision recall Curve :  \n",
        "# precision_recall_curve(y_true, probas_pred, pos_label=None, sample_weight=None)\n",
        "\n",
        "PrecisionValue, RecallValue, ThresholdsValue = precision_recall_curve(y_test,y_pred)\n",
        "print('Precision Value is : ', PrecisionValue)\n",
        "print('Recall Value is : ', RecallValue)\n",
        "print('Thresholds Value is : ', ThresholdsValue)"
      ],
      "execution_count": 12,
      "outputs": [
        {
          "output_type": "stream",
          "text": [
            "Precision Value is :  [0.63829787 0.975      1.        ]\n",
            "Recall Value is :  [1.    0.975 0.   ]\n",
            "Thresholds Value is :  [0 1]\n"
          ],
          "name": "stdout"
        }
      ]
    },
    {
      "cell_type": "code",
      "metadata": {
        "id": "G7O8uIpz_cGK",
        "colab_type": "code",
        "colab": {
          "base_uri": "https://localhost:8080/",
          "height": 170
        },
        "outputId": "06b95d56-0250-4723-c544-7d3209d1a73b"
      },
      "source": [
        "#Calculating classification Report :  \n",
        "#classification_report(y_true, y_pred, labels=None, target_names=None,sample_weight=None, digits=2, output_dict=False)\n",
        "\n",
        "ClassificationReport = classification_report(y_test,y_pred)\n",
        "print('Classification Report is : ', ClassificationReport )"
      ],
      "execution_count": 13,
      "outputs": [
        {
          "output_type": "stream",
          "text": [
            "Classification Report is :                precision    recall  f1-score   support\n",
            "\n",
            "           0       0.96      0.96      0.96        68\n",
            "           1       0.97      0.97      0.97       120\n",
            "\n",
            "    accuracy                           0.97       188\n",
            "   macro avg       0.97      0.97      0.97       188\n",
            "weighted avg       0.97      0.97      0.97       188\n",
            "\n"
          ],
          "name": "stdout"
        }
      ]
    },
    {
      "cell_type": "code",
      "metadata": {
        "id": "uNiPZhDU_gZa",
        "colab_type": "code",
        "colab": {
          "base_uri": "https://localhost:8080/",
          "height": 34
        },
        "outputId": "185c16f7-9ac6-47e5-9611-d761f9757c48"
      },
      "source": [
        "#Calculating Area Under the Curve :  \n",
        "\n",
        "fprValue2, tprValue2, thresholdsValue2 = roc_curve(y_test,y_pred)\n",
        "AUCValue = auc(fprValue2, tprValue2)\n",
        "print('AUC Value  : ', AUCValue)\n"
      ],
      "execution_count": 14,
      "outputs": [
        {
          "output_type": "stream",
          "text": [
            "AUC Value  :  0.9654411764705882\n"
          ],
          "name": "stdout"
        }
      ]
    },
    {
      "cell_type": "code",
      "metadata": {
        "id": "pM93FaYM_mr8",
        "colab_type": "code",
        "colab": {
          "base_uri": "https://localhost:8080/",
          "height": 68
        },
        "outputId": "d2ff6a31-5bf4-4c7c-feee-2f80f94194f2"
      },
      "source": [
        "#Calculating Receiver Operating Characteristic :  \n",
        "#roc_curve(y_true, y_score, pos_label=None, sample_weight=None,drop_intermediate=True)\n",
        "\n",
        "fprValue, tprValue, thresholdsValue = roc_curve(y_test,y_pred)\n",
        "print('fpr Value  : ', fprValue)\n",
        "print('tpr Value  : ', tprValue)\n",
        "print('thresholds Value  : ', thresholdsValue)"
      ],
      "execution_count": 15,
      "outputs": [
        {
          "output_type": "stream",
          "text": [
            "fpr Value  :  [0.         0.04411765 1.        ]\n",
            "tpr Value  :  [0.    0.975 1.   ]\n",
            "thresholds Value  :  [2 1 0]\n"
          ],
          "name": "stdout"
        }
      ]
    },
    {
      "cell_type": "code",
      "metadata": {
        "id": "wsN_dwb3_q5r",
        "colab_type": "code",
        "colab": {
          "base_uri": "https://localhost:8080/",
          "height": 34
        },
        "outputId": "120a81e5-93dd-41b3-cc72-c8e642f1089a"
      },
      "source": [
        "#Calculating ROC AUC Score:  \n",
        "#roc_auc_score(y_true, y_score, average=’macro’, sample_weight=None,max_fpr=None)\n",
        "\n",
        "ROCAUCScore = roc_auc_score(y_test,y_pred, average='micro') #it can be : macro,weighted,samples\n",
        "print('ROCAUC Score : ', ROCAUCScore)"
      ],
      "execution_count": 16,
      "outputs": [
        {
          "output_type": "stream",
          "text": [
            "ROCAUC Score :  0.9654411764705882\n"
          ],
          "name": "stdout"
        }
      ]
    },
    {
      "cell_type": "code",
      "metadata": {
        "id": "yVzNVPk1_ukW",
        "colab_type": "code",
        "colab": {
          "base_uri": "https://localhost:8080/",
          "height": 34
        },
        "outputId": "fdf1f825-13a7-4f52-c108-d417b5073279"
      },
      "source": [
        "#Calculating Zero One Loss:  \n",
        "#zero_one_loss(y_true, y_pred, normalize = True, sample_weight = None)\n",
        "\n",
        "ZeroOneLossValue = zero_one_loss(y_test,y_pred,normalize=False) \n",
        "print('Zero One Loss Value : ', ZeroOneLossValue )"
      ],
      "execution_count": 17,
      "outputs": [
        {
          "output_type": "stream",
          "text": [
            "Zero One Loss Value :  6\n"
          ],
          "name": "stdout"
        }
      ]
    },
    {
      "cell_type": "code",
      "metadata": {
        "id": "m0nlAewn_xo4",
        "colab_type": "code",
        "colab": {}
      },
      "source": [
        ""
      ],
      "execution_count": 0,
      "outputs": []
    }
  ]
}